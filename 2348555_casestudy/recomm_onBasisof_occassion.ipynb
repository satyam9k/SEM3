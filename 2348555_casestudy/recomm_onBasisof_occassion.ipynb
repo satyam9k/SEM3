{
  "nbformat": 4,
  "nbformat_minor": 0,
  "metadata": {
    "colab": {
      "provenance": []
    },
    "kernelspec": {
      "name": "python3",
      "display_name": "Python 3"
    },
    "language_info": {
      "name": "python"
    }
  },
  "cells": [
    {
      "cell_type": "markdown",
      "source": [
        "## Building recommendation system that suggests outfit based on occasion using Glove embedding and cosine similarity."
      ],
      "metadata": {
        "id": "gfTKfJOC6gzH"
      }
    },
    {
      "cell_type": "code",
      "source": [
        "!pip install datasets"
      ],
      "metadata": {
        "colab": {
          "base_uri": "https://localhost:8080/"
        },
        "id": "pPpeXhQben2d",
        "outputId": "ec10cbdf-5f18-49ee-f0c1-4470bce32ca2"
      },
      "execution_count": 1,
      "outputs": [
        {
          "output_type": "stream",
          "name": "stdout",
          "text": [
            "Requirement already satisfied: datasets in /usr/local/lib/python3.10/dist-packages (2.19.0)\n",
            "Requirement already satisfied: filelock in /usr/local/lib/python3.10/dist-packages (from datasets) (3.13.4)\n",
            "Requirement already satisfied: numpy>=1.17 in /usr/local/lib/python3.10/dist-packages (from datasets) (1.25.2)\n",
            "Requirement already satisfied: pyarrow>=12.0.0 in /usr/local/lib/python3.10/dist-packages (from datasets) (14.0.2)\n",
            "Requirement already satisfied: pyarrow-hotfix in /usr/local/lib/python3.10/dist-packages (from datasets) (0.6)\n",
            "Requirement already satisfied: dill<0.3.9,>=0.3.0 in /usr/local/lib/python3.10/dist-packages (from datasets) (0.3.8)\n",
            "Requirement already satisfied: pandas in /usr/local/lib/python3.10/dist-packages (from datasets) (2.0.3)\n",
            "Requirement already satisfied: requests>=2.19.0 in /usr/local/lib/python3.10/dist-packages (from datasets) (2.31.0)\n",
            "Requirement already satisfied: tqdm>=4.62.1 in /usr/local/lib/python3.10/dist-packages (from datasets) (4.66.2)\n",
            "Requirement already satisfied: xxhash in /usr/local/lib/python3.10/dist-packages (from datasets) (3.4.1)\n",
            "Requirement already satisfied: multiprocess in /usr/local/lib/python3.10/dist-packages (from datasets) (0.70.16)\n",
            "Requirement already satisfied: fsspec[http]<=2024.3.1,>=2023.1.0 in /usr/local/lib/python3.10/dist-packages (from datasets) (2023.6.0)\n",
            "Requirement already satisfied: aiohttp in /usr/local/lib/python3.10/dist-packages (from datasets) (3.9.5)\n",
            "Requirement already satisfied: huggingface-hub>=0.21.2 in /usr/local/lib/python3.10/dist-packages (from datasets) (0.22.2)\n",
            "Requirement already satisfied: packaging in /usr/local/lib/python3.10/dist-packages (from datasets) (24.0)\n",
            "Requirement already satisfied: pyyaml>=5.1 in /usr/local/lib/python3.10/dist-packages (from datasets) (6.0.1)\n",
            "Requirement already satisfied: aiosignal>=1.1.2 in /usr/local/lib/python3.10/dist-packages (from aiohttp->datasets) (1.3.1)\n",
            "Requirement already satisfied: attrs>=17.3.0 in /usr/local/lib/python3.10/dist-packages (from aiohttp->datasets) (23.2.0)\n",
            "Requirement already satisfied: frozenlist>=1.1.1 in /usr/local/lib/python3.10/dist-packages (from aiohttp->datasets) (1.4.1)\n",
            "Requirement already satisfied: multidict<7.0,>=4.5 in /usr/local/lib/python3.10/dist-packages (from aiohttp->datasets) (6.0.5)\n",
            "Requirement already satisfied: yarl<2.0,>=1.0 in /usr/local/lib/python3.10/dist-packages (from aiohttp->datasets) (1.9.4)\n",
            "Requirement already satisfied: async-timeout<5.0,>=4.0 in /usr/local/lib/python3.10/dist-packages (from aiohttp->datasets) (4.0.3)\n",
            "Requirement already satisfied: typing-extensions>=3.7.4.3 in /usr/local/lib/python3.10/dist-packages (from huggingface-hub>=0.21.2->datasets) (4.11.0)\n",
            "Requirement already satisfied: charset-normalizer<4,>=2 in /usr/local/lib/python3.10/dist-packages (from requests>=2.19.0->datasets) (3.3.2)\n",
            "Requirement already satisfied: idna<4,>=2.5 in /usr/local/lib/python3.10/dist-packages (from requests>=2.19.0->datasets) (3.7)\n",
            "Requirement already satisfied: urllib3<3,>=1.21.1 in /usr/local/lib/python3.10/dist-packages (from requests>=2.19.0->datasets) (2.0.7)\n",
            "Requirement already satisfied: certifi>=2017.4.17 in /usr/local/lib/python3.10/dist-packages (from requests>=2.19.0->datasets) (2024.2.2)\n",
            "Requirement already satisfied: python-dateutil>=2.8.2 in /usr/local/lib/python3.10/dist-packages (from pandas->datasets) (2.8.2)\n",
            "Requirement already satisfied: pytz>=2020.1 in /usr/local/lib/python3.10/dist-packages (from pandas->datasets) (2023.4)\n",
            "Requirement already satisfied: tzdata>=2022.1 in /usr/local/lib/python3.10/dist-packages (from pandas->datasets) (2024.1)\n",
            "Requirement already satisfied: six>=1.5 in /usr/local/lib/python3.10/dist-packages (from python-dateutil>=2.8.2->pandas->datasets) (1.16.0)\n"
          ]
        }
      ]
    },
    {
      "cell_type": "code",
      "source": [
        "import pandas as pd\n",
        "from sklearn.metrics.pairwise import cosine_similarity\n",
        "from datasets import load_dataset\n",
        "from nltk.tokenize import word_tokenize\n",
        "from nltk.corpus import stopwords\n",
        "from nltk.stem import WordNetLemmatizer\n",
        "import string\n",
        "import numpy as np\n",
        "from gensim.models import KeyedVectors"
      ],
      "metadata": {
        "id": "kpxOOchggacR"
      },
      "execution_count": 2,
      "outputs": []
    },
    {
      "cell_type": "code",
      "source": [
        "# Load dataset\n",
        "dataset = load_dataset(\"nextai-team/fashion\")"
      ],
      "metadata": {
        "id": "6RLmzxCUqaQV"
      },
      "execution_count": 3,
      "outputs": []
    },
    {
      "cell_type": "code",
      "source": [
        "# Convert dataset to pandas DataFrame\n",
        "df = pd.DataFrame(dataset['train'])"
      ],
      "metadata": {
        "id": "QxuhBgFFqcYS"
      },
      "execution_count": 4,
      "outputs": []
    },
    {
      "cell_type": "code",
      "source": [
        "# NLP Preprocessing\n",
        "lemmatizer = WordNetLemmatizer()\n",
        "stop_words = set(stopwords.words('english'))"
      ],
      "metadata": {
        "id": "dqQlrDSJqcap"
      },
      "execution_count": 5,
      "outputs": []
    },
    {
      "cell_type": "code",
      "source": [
        "def preprocess_text(text):\n",
        "    # Tokenization\n",
        "    tokens = word_tokenize(text.lower())\n",
        "    # Lemmatization and remove stop words\n",
        "    tokens = [lemmatizer.lemmatize(word) for word in tokens if word not in stop_words and word not in string.punctuation]\n",
        "    return \" \".join(tokens)"
      ],
      "metadata": {
        "id": "jtMaVFJYqcdM"
      },
      "execution_count": 6,
      "outputs": []
    },
    {
      "cell_type": "code",
      "source": [
        "df['input'] = df['input'].apply(preprocess_text)\n",
        "df['output'] = df['output'].apply(preprocess_text)\n"
      ],
      "metadata": {
        "id": "o4GlEbqBqhsy"
      },
      "execution_count": 7,
      "outputs": []
    },
    {
      "cell_type": "code",
      "source": [
        "# Load GloVe embeddings\n",
        "word_vectors = KeyedVectors.load_word2vec_format('glove.6B.100d.txt', binary=False, no_header=True)"
      ],
      "metadata": {
        "id": "YR8CW2NQqhvJ"
      },
      "execution_count": 8,
      "outputs": []
    },
    {
      "cell_type": "code",
      "source": [
        "# Function to calculate the average word embedding of a sentence\n",
        "def sentence_embedding(sentence):\n",
        "    words = sentence.split()\n",
        "    embeddings = [word_vectors[word] for word in words if word in word_vectors]\n",
        "    if embeddings:\n",
        "        return np.mean(embeddings, axis=0)\n",
        "    else:\n",
        "        return np.zeros(word_vectors.vector_size)\n"
      ],
      "metadata": {
        "id": "cu2BOobWqhxn"
      },
      "execution_count": 9,
      "outputs": []
    },
    {
      "cell_type": "code",
      "source": [
        "# Calculate sentence embeddings\n",
        "df['input_embedding'] = df['input'].apply(sentence_embedding)\n"
      ],
      "metadata": {
        "id": "flLYTRLBqh0H"
      },
      "execution_count": 10,
      "outputs": []
    },
    {
      "cell_type": "code",
      "source": [
        "# Function to recommend similar items\n",
        "def recommend(text, n=1):\n",
        "    text_embedding = sentence_embedding(preprocess_text(text))\n",
        "    if np.all(text_embedding == 0):\n",
        "        return []\n",
        "    df['similarity'] = df['input_embedding'].apply(lambda x: cosine_similarity([text_embedding], [x])[0][0])\n",
        "    recommendations = df.sort_values(by='similarity', ascending=False).head(n)\n",
        "    return recommendations['output'].tolist()\n",
        "\n",
        "# Test the recommendation system\n",
        "input_text = \"job interview\"\n",
        "recommendations = recommend(input_text)\n",
        "print(recommendations)"
      ],
      "metadata": {
        "colab": {
          "base_uri": "https://localhost:8080/"
        },
        "id": "KaXrK2muqh8w",
        "outputId": "7016c1a5-88ed-4c1b-af03-d170a685a00f"
      },
      "execution_count": 11,
      "outputs": [
        {
          "output_type": "stream",
          "name": "stdout",
          "text": [
            "['well-fitted suit/dress closed-toe shoe minimal accessory groomed appearance']\n"
          ]
        }
      ]
    },
    {
      "cell_type": "code",
      "source": [
        "# Test the recommendation system\n",
        "input_text = input(\"Enter your query: \")\n",
        "recommendations = recommend(input_text)\n",
        "print(recommendations)"
      ],
      "metadata": {
        "colab": {
          "base_uri": "https://localhost:8080/"
        },
        "id": "MfJVmgB_xc1w",
        "outputId": "aac5a60c-030d-4cfa-9218-e7e36c2aa372"
      },
      "execution_count": 24,
      "outputs": [
        {
          "output_type": "stream",
          "name": "stdout",
          "text": [
            "Enter your query: i have job interview and my favourite color is blue\n",
            "['well-fitted suit/dress closed-toe shoe minimal accessory groomed appearance']\n"
          ]
        }
      ]
    },
    {
      "cell_type": "code",
      "source": [
        "input_text = input(\"Enter your query: \")\n",
        "recommendations = recommend(input_text)\n",
        "print(recommendations)"
      ],
      "metadata": {
        "colab": {
          "base_uri": "https://localhost:8080/"
        },
        "id": "P7BXoKrlxBzL",
        "outputId": "fad876f3-4778-4c83-fe19-0decaebed1cd"
      },
      "execution_count": 32,
      "outputs": [
        {
          "output_type": "stream",
          "name": "stdout",
          "text": [
            "Enter your query: to party with freinds\n",
            "['men casual attire like jeans/chinos stylish shirt polo woman chic dress trendy outfit suitable party theme']\n"
          ]
        }
      ]
    },
    {
      "cell_type": "code",
      "source": [
        "input_text = input(\"Enter your query: \")\n",
        "recommendations = recommend(input_text)\n",
        "print(recommendations)"
      ],
      "metadata": {
        "colab": {
          "base_uri": "https://localhost:8080/"
        },
        "id": "Ue7ERaws0PJu",
        "outputId": "966a55c8-6a5c-4710-fd10-5188076128b9"
      },
      "execution_count": 33,
      "outputs": [
        {
          "output_type": "stream",
          "name": "stdout",
          "text": [
            "Enter your query: to play basketball\n",
            "['shorts/leggings moisture-wicking top supportive sneakers/athletic shoe']\n"
          ]
        }
      ]
    },
    {
      "cell_type": "code",
      "source": [
        "input_text = input(\"Enter your query: \")\n",
        "recommendations = recommend(input_text)\n",
        "print(recommendations)"
      ],
      "metadata": {
        "colab": {
          "base_uri": "https://localhost:8080/"
        },
        "id": "0JCNk5CS0Pv2",
        "outputId": "7c2f80e0-1d56-49af-f094-9ecce8f54047"
      },
      "execution_count": 34,
      "outputs": [
        {
          "output_type": "stream",
          "name": "stdout",
          "text": [
            "Enter your query: to present my research paper to highly qualified scientists\n",
            "['well-fitted suit/dress closed-toe shoe minimal accessory groomed appearance']\n"
          ]
        }
      ]
    },
    {
      "cell_type": "code",
      "source": [],
      "metadata": {
        "id": "yKAwVgs60Yww"
      },
      "execution_count": null,
      "outputs": []
    }
  ]
}